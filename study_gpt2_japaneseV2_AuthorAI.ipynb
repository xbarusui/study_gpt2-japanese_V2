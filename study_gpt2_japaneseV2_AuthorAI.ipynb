{
  "nbformat": 4,
  "nbformat_minor": 0,
  "metadata": {
    "colab": {
      "name": "study_gpt2_japaneseV2_AuthorAI.ipynb",
      "provenance": [],
      "collapsed_sections": [],
      "machine_shape": "hm",
      "mount_file_id": "1b_yMgFTWlCr3VL2zi5-Jaa1aC45LtxE7",
      "authorship_tag": "ABX9TyOb02a4qG13aT4bUKLoKgQS",
      "include_colab_link": true
    },
    "kernelspec": {
      "name": "python3",
      "display_name": "Python 3"
    },
    "language_info": {
      "name": "python"
    },
    "accelerator": "GPU"
  },
  "cells": [
    {
      "cell_type": "markdown",
      "metadata": {
        "id": "view-in-github",
        "colab_type": "text"
      },
      "source": [
        "<a href=\"https://colab.research.google.com/github/xbarusui/study_gpt2-japanese_V2/blob/main/study_gpt2_japaneseV2_AuthorAI.ipynb\" target=\"_parent\"><img src=\"https://colab.research.google.com/assets/colab-badge.svg\" alt=\"Open In Colab\"/></a>"
      ]
    },
    {
      "cell_type": "markdown",
      "metadata": {
        "id": "v5AoNh8gggcC"
      },
      "source": [
        "<h1> 作家AI の文章学習・生成</h1>\n",
        "メニュー\n",
        "\n",
        "*   1.前準備(googleドライブ)\n",
        "*   2.前準備(モジュールインストール)\n",
        "*   3.作家AI学習\n",
        "*   4.作家AIの文章生成\n",
        "\n"
      ]
    },
    {
      "cell_type": "markdown",
      "metadata": {
        "id": "WwEguJMjixy_"
      },
      "source": [
        "# 1.前準備(googleドライブ)\n"
      ]
    },
    {
      "cell_type": "markdown",
      "metadata": {
        "id": "ArwtGSFqzlUk"
      },
      "source": [
        ""
      ]
    },
    {
      "cell_type": "code",
      "metadata": {
        "id": "Sk3rPez-i1sl",
        "cellView": "form"
      },
      "source": [
        "#@title googleドライブに接続して gpt2work というフォルダを作成\n",
        "from google.colab import drive \n",
        "drive.mount('/content/drive')\n",
        "!mkdir -p '/content/drive/My Drive/gpt2work/'\n",
        "%cd '/content/drive/My Drive/gpt2work/'"
      ],
      "execution_count": null,
      "outputs": []
    },
    {
      "cell_type": "markdown",
      "metadata": {
        "id": "_JlZ62nVvcrq"
      },
      "source": [
        "<h1> 上記の説明 </h1>\n",
        "\n",
        "1．下のセルを実行すると、URLと入力欄が表示されます。\n",
        "\n",
        "![Googleドライブ認証](https://github.com/xbarusui/study_gpt2-japanese_V2/blob/main/authimage1.png?raw=true)\n",
        "\n",
        "2．青いURLをクリックすると、新しいタブが開いて、colabと連携するアカウントを聞かれます（聞かれなかった場合、次に進んで下さい）\n",
        "\n",
        "![アカウントの選択](https://github.com/xbarusui/study_gpt2-japanese_V2/blob/main/authimage2.png?raw=true)\n",
        "\n",
        "3．「このアプリをGoogleからダウンロードしたことをご確認ください」と出ますので確認の上、「ログイン」を選択してください。\n",
        "\n",
        "![代替テキスト](https://github.com/xbarusui/study_gpt2-japanese_V2/blob/main/authimage3.png?raw=true)\n",
        "\n",
        "4．許可すると、認証コードの横にコピーボタンが表示されますので、コピーボタンをクリックして下さい。\n",
        "\n",
        "![認証コード](https://github.com/xbarusui/study_gpt2-japanese_V2/blob/main/authimage4.png?raw=true)\n",
        "\n",
        "5．colabの画面に戻ってきて、URLの下の入力欄にカーソルを合わせて、「Ctrl+V」で貼り付けて下さい。文字列は・で表示されます。\n",
        "\n",
        "![認証コード貼り付け](https://github.com/xbarusui/study_gpt2-japanese_V2/blob/main/authimage5.png?raw=true)\n",
        "\n",
        "\n"
      ]
    },
    {
      "cell_type": "markdown",
      "metadata": {
        "id": "UWuaqqlIyNrN"
      },
      "source": [
        "# 2.前準備(モジュールインストール)"
      ]
    },
    {
      "cell_type": "code",
      "metadata": {
        "cellView": "form",
        "id": "EhcO47ppe_5G"
      },
      "source": [
        "#@title 学習済みモデルと周辺モジュールインストール\n",
        "!git clone https://github.com/rinnakk/japanese-pretrained-models\n",
        "%cd japanese-pretrained-models\n",
        "!pip install -r requirements.txt\n",
        "\n",
        "# 再度ディレクトリ移動\n",
        "%cd '/content/drive/My Drive/gpt2work/'\n",
        "\n",
        "# Huggingface Datasetsのインストール\n",
        "!pip install datasets==1.2.1\n",
        "\n",
        "# Sentencepieceのインストール\n",
        "!pip install sentencepiece==0.1.91\n",
        "\n",
        "# 初めての場合は、gpt2work以下に下のフォルダがないか確認し、無ければモジュールをgithubダウンロード\n",
        "import os\n",
        "path = 'study_gpt2-japanese_V2'\n",
        "is_dir = os.path.isdir(path)\n",
        "\n",
        "if is_dir is False:\n",
        "  !git clone https://github.com/xbarusui/study_gpt2-japanese_V2\n"
      ],
      "execution_count": null,
      "outputs": []
    },
    {
      "cell_type": "markdown",
      "metadata": {
        "id": "Y_UrG5CkBrv4"
      },
      "source": [
        "# 作家AI学習（学習不要なら省略可能）"
      ]
    },
    {
      "cell_type": "code",
      "metadata": {
        "id": "3Q6AHIy0f1UG",
        "cellView": "form"
      },
      "source": [
        "#@title 初期位置に移動\n",
        "\n",
        "%cd '/content/drive/My Drive/gpt2work/'"
      ],
      "execution_count": null,
      "outputs": []
    },
    {
      "cell_type": "code",
      "metadata": {
        "cellView": "form",
        "id": "odriXTSeRpX0"
      },
      "source": [
        "#@title 学習させたいテキストファイルをUPLOADする\n",
        "\n",
        "from google.colab import files\n",
        "uploaded = files.upload()"
      ],
      "execution_count": null,
      "outputs": []
    },
    {
      "cell_type": "code",
      "metadata": {
        "id": "qkwfeewOgjBW",
        "cellView": "form"
      },
      "source": [
        "#@title パラメータ設定後に学習\n",
        "\n",
        "\n",
        "#@markdown \n",
        "\n",
        "\n",
        "\n",
        "#@markdown ### 作家AIのモデルをドロップダウンから選択してください\n",
        "\n",
        "#@markdown Default以外の番号を選択すると、そこに学習した作家AIが格納されます\n",
        "\n",
        "authormodel = \"1\" #@param [\"Default\", \"1\",\"2\",\"3\",\"4\",\"5\",\"6\",\"7\",\"8\",\"9\",\"10\"]\n",
        "\n",
        "#@markdown \n",
        "\n",
        "if authormodel == \"Default\" :\n",
        "  savefolder = \"output/\"\n",
        "else:\n",
        "  savefolder = authormodel + \"/\"\n",
        "\n",
        "#@markdown ### UPLOADしたファイル名を入力してください\n",
        "upload_file = \"junhonnovel.txt\"  #@param {type:\"string\"}\n",
        "\n",
        "#@markdown\n",
        "\n",
        "#@markdown ### num_train_epochs（何エポック学習するかを設定します）\n",
        "num_train_epochs = 10  #@param {type:\"number\"}\n",
        "\n",
        "\n",
        "# ファインチューニングの実行\n",
        "!python study_gpt2-japanese_V2/gpt2japanese_study.py \\\n",
        "    --model_name_or_path=rinna/japanese-gpt2-xsmall \\\n",
        "    --train_file={upload_file} \\\n",
        "    --validation_file={upload_file} \\\n",
        "    --do_train \\\n",
        "    --do_eval \\\n",
        "    --num_train_epochs={num_train_epochs} \\\n",
        "    --save_steps=5000 \\\n",
        "    --save_total_limit=3 \\\n",
        "    --per_device_train_batch_size=1 \\\n",
        "    --per_device_eval_batch_size=1 \\\n",
        "    --output_dir={savefolder} \\\n",
        "    --use_fast_tokenizer=False \\\n",
        "    --overwrite_output_dir"
      ],
      "execution_count": null,
      "outputs": []
    },
    {
      "cell_type": "markdown",
      "metadata": {
        "id": "kEfy32CjCY_h"
      },
      "source": [
        "# 作家AIの文章生成"
      ]
    },
    {
      "cell_type": "code",
      "metadata": {
        "id": "VY8CpSnybc9I",
        "cellView": "form"
      },
      "source": [
        "#@title パラメータ設定後に文章生成\n",
        "\n",
        "#@markdown \n",
        "\n",
        "#@markdown ### 作家AIのモデルをドロップダウンから選択してください\n",
        "\n",
        "#@markdown Default だと初期の学習済みモデルを利用し、数字を選択すると上で学習した番号に格納されたモデルを使用します\n",
        "\n",
        "authormodel = \"Default\" #@param [\"Default\", \"1\",\"2\",\"3\",\"4\",\"5\",\"6\",\"7\",\"8\",\"9\",\"10\"]\n",
        "\n",
        "#@markdown \n",
        "\n",
        "from transformers import T5Tokenizer, AutoModelForCausalLM\n",
        "\n",
        "if authormodel == \"Default\" :\n",
        "  # ライブラリをインポートします。\n",
        "  # 学習済みモデルをダウンロードします。\n",
        "#  tokenizer = T5Tokenizer.from_pretrained(\"rinna/japanese-gpt2-xsmall\")\n",
        "#  tokenizer.do_lower_case = True \n",
        "  savefolder = \"rinna/japanese-gpt2-xsmall\"\n",
        "else:\n",
        "  savefolder = authormodel + \"/\"\n",
        "\n",
        "\n",
        "#@markdown ### 書かせる文章の最初の部分を記載してください\n",
        "\n",
        "noveltext = \"\"  #@param {type:\"string\"}\n",
        "\n",
        "#@markdown ### 文字数を選択してください\n",
        "\n",
        "novellength = 128  #@param {type:\"number\"}\n",
        "\n",
        "#@markdown ### 何回生成するかを選択してください\n",
        "\n",
        "novelseq =   4#@param {type:\"number\"}\n",
        "\n",
        "\n",
        "# トークナイザーとモデルの準備\n",
        "tokenizer = T5Tokenizer.from_pretrained(\"rinna/japanese-gpt2-xsmall\")\n",
        "model = AutoModelForCausalLM.from_pretrained(savefolder)\n",
        "\n",
        "# 推論\n",
        "input = tokenizer.encode( noveltext , return_tensors=\"pt\")\n",
        "output = model.generate(input, do_sample=True, max_length=novellength, num_return_sequences=novelseq)\n",
        "\n",
        "#print(tokenizer.batch_decode(output))\n",
        "\n",
        "# 出力されたコードを文章に戻します。\n",
        "DecodedOutput = tokenizer.batch_decode(output)\n",
        "\n",
        "# 生成された文章を表示します。\n",
        "print('#'*40)\n",
        "print(f'冒頭が「{noveltext}」となる文章を出力します。')\n",
        "print('#'*40)\n",
        "\n",
        "for j in range(novelseq):\n",
        "  print('#'*40)\n",
        "  print(f'### 文章案{j} ####')\n",
        "  print('#'*40)\n",
        "  i = 0\n",
        "  while i < len(DecodedOutput[j]):\n",
        "    print(DecodedOutput[j].replace('</s>','')[i:i+80]) \n",
        "    i = i+80 "
      ],
      "execution_count": null,
      "outputs": []
    }
  ]
}